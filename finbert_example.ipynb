{
 "cells": [
  {
   "cell_type": "code",
   "execution_count": 3,
   "metadata": {},
   "outputs": [
    {
     "name": "stderr",
     "output_type": "stream",
     "text": [
      "c:\\Users\\zfkha\\miniconda3\\Lib\\site-packages\\tqdm\\auto.py:21: TqdmWarning: IProgress not found. Please update jupyter and ipywidgets. See https://ipywidgets.readthedocs.io/en/stable/user_install.html\n",
      "  from .autonotebook import tqdm as notebook_tqdm\n"
     ]
    },
    {
     "name": "stdout",
     "output_type": "stream",
     "text": [
      "WARNING:tensorflow:From c:\\Users\\zfkha\\miniconda3\\Lib\\site-packages\\keras\\src\\losses.py:2976: The name tf.losses.sparse_softmax_cross_entropy is deprecated. Please use tf.compat.v1.losses.sparse_softmax_cross_entropy instead.\n",
      "\n"
     ]
    }
   ],
   "source": [
    "from transformers import BertTokenizer, BertForSequenceClassification, pipeline\n",
    "import requests\n",
    "from bs4 import BeautifulSoup\n",
    "import spacy\n",
    "from spacy.lang.en.stop_words import STOP_WORDS\n",
    "from string import punctuation\n",
    "from heapq import nlargest\n",
    "from newspaper import Article"
   ]
  },
  {
   "cell_type": "code",
   "execution_count": 4,
   "metadata": {},
   "outputs": [
    {
     "name": "stderr",
     "output_type": "stream",
     "text": [
      "c:\\Users\\zfkha\\miniconda3\\Lib\\site-packages\\torch\\_utils.py:831: UserWarning: TypedStorage is deprecated. It will be removed in the future and UntypedStorage will be the only storage class. This should only matter to you if you are using storages directly.  To access UntypedStorage directly, use tensor.untyped_storage() instead of tensor.storage()\n",
      "  return self.fget.__get__(instance, owner)()\n"
     ]
    }
   ],
   "source": [
    "finbert = BertForSequenceClassification.from_pretrained('ProsusAI/finbert',num_labels=3)\n",
    "tokenizer = BertTokenizer.from_pretrained('ProsusAI/finbert')"
   ]
  },
  {
   "cell_type": "code",
   "execution_count": 5,
   "metadata": {},
   "outputs": [],
   "source": [
    "nlp = pipeline(\"text-classification\", model=finbert, tokenizer=tokenizer)\n",
    "results = nlp(\"Stock values are dropping at a rapid rate\")"
   ]
  },
  {
   "cell_type": "code",
   "execution_count": 6,
   "metadata": {},
   "outputs": [
    {
     "data": {
      "text/plain": [
       "'Print this page\\n\\nTech giant Amazon has struck a deal with the UK’s largest publisher Reach over obtaining customer data to target online advertising, as the media industry scrambles to respond to Google’s move to axe “cookies”.\\n\\nIn one of the first such agreements in Europe, Amazon and Reach unveiled a partnership on Monday designed to compensate for the loss of “third party” cookies that help gather information about users by tracking their activity across websites to help target advertising.\\n\\nGoogle said this month that it had started to remove cookies on its Chrome browser, following a similar move by Apple to block them over Safari, aiming to switch off all third-party cookies by the end of the year.\\n\\nReach said it will partner with Amazon on sharing “contextual” first-party data, for example allowing advertisers to know what articles people are looking at, with the US tech group using the information to sell more targeted advertising on the UK publisher’s sites.\\n\\nThe companies said the deal comes “as the advertising world tackles deprecation of third-party cookies, a long-anticipated industry milestone that Google kick-started in early January”. Financial details for the arrangement were not revealed.\\n\\nThe partnership involves the contextual advertising of Mantis, originally a brand safety tool that could ensure that brands were not being presented next to potentially harmful or inappropriate material.\\n\\nThe tool is also now used to place ads next to content users may want to see, helping to better target specific audiences with relevant advertising. Other publishers also use Mantis.\\n\\nAmazon Ads director of EU adtech sales Frazer Locke said that “as the industry shifts towards an environment where cookies are not available, first party contextual signals are critical in helping us develop actionable insights that enable our advertisers to reach relevant audiences without sacrificing reach, relevancy or ad performance”.\\n\\nThe loss of cookies means that almost all internet users will become close to unidentifiable for advertisers. The risk for publishers is that their advertising offer becomes much less valuable at a time when they are already losing ad revenues, which has led to thousands of job cuts in the past year. Reach last year announced 450 roles would be axed.\\n\\nOther media groups are also looking at deals involving their customer data, according to industry executives. Some publishers are experimenting more with registration pages or paywalls that mean people give first party information that they can use, such as email addresses and logins. Reach is already seeking to harvest more such data from readers.\\n\\nJon Steinberg, chief executive of Future, a rival FTSE 250 publisher, said that the “elimination of third-party cookies is one of the biggest changes to the advertising market in the digital age”.\\n\\nHe added that “advertisers and agencies will be looking to publishers that have high quality editorial, scale, and rich first party data”, and predicted that “advertisers, agencies, and quality publishers [will work] even more closely together to reach audiences that drive outcomes for brands”.\\n\\nSir Martin Sorrell, chief executive of advertising form S4 Capital, said that some clients that did not have access to first party data on their customers were “panicking”.\\n\\nHe said that there would be “more focus” on getting customers to sign up to websites with their information as companies attempted to boost their stores of “consented data”.\\n\\n\\n\\n'"
      ]
     },
     "execution_count": 6,
     "metadata": {},
     "output_type": "execute_result"
    }
   ],
   "source": [
    "url = \"https://www.ft.com/content/7979b1a3-ded2-4f27-a563-101920bdb379\"\n",
    "article = Article(url)\n",
    "article.download()\n",
    "article.parse()\n",
    "article.text"
   ]
  },
  {
   "cell_type": "code",
   "execution_count": 12,
   "metadata": {},
   "outputs": [],
   "source": [
    "def summarise(text, percentage=0.2):\n",
    "    nlp = spacy.load('en_core_web_sm')\n",
    "    doc = nlp(text)\n",
    "    \n",
    "    word_frequencies = {}\n",
    "    for word in doc:\n",
    "        if word.text.lower() not in STOP_WORDS and word.text.lower() not in punctuation:\n",
    "            word_frequencies[word.text.lower()] = word_frequencies.get(word.text.lower(), 0) + 1\n",
    "\n",
    "    max_frequency = max(word_frequencies.values())\n",
    "    normalized_frequencies = {word: freq / max_frequency for word, freq in word_frequencies.items()}\n",
    "\n",
    "    sentence_scores = {}\n",
    "    for sent in doc.sents:\n",
    "        for word in sent:\n",
    "            if word.text.lower() in normalized_frequencies:\n",
    "                sentence_scores[sent] = sentence_scores.get(sent, 0) + normalized_frequencies[word.text.lower()]\n",
    "\n",
    "    summary_length = int(len(list(doc.sents)) * percentage)\n",
    "    summary_sentences = nlargest(summary_length, sentence_scores, key=sentence_scores.get)\n",
    "    summary = ' '.join([sent.text for sent in summary_sentences])\n",
    "\n",
    "    return summary"
   ]
  },
  {
   "cell_type": "code",
   "execution_count": 18,
   "metadata": {},
   "outputs": [
    {
     "data": {
      "text/plain": [
       "0.82"
      ]
     },
     "execution_count": 18,
     "metadata": {},
     "output_type": "execute_result"
    }
   ],
   "source": [
    "summary = summarise(article.text)\n",
    "result = round(nlp(summary)[0]['score'],2)\n",
    "result"
   ]
  },
  {
   "cell_type": "code",
   "execution_count": null,
   "metadata": {},
   "outputs": [],
   "source": []
  }
 ],
 "metadata": {
  "kernelspec": {
   "display_name": "base",
   "language": "python",
   "name": "python3"
  },
  "language_info": {
   "codemirror_mode": {
    "name": "ipython",
    "version": 3
   },
   "file_extension": ".py",
   "mimetype": "text/x-python",
   "name": "python",
   "nbconvert_exporter": "python",
   "pygments_lexer": "ipython3",
   "version": "3.11.5"
  }
 },
 "nbformat": 4,
 "nbformat_minor": 2
}
