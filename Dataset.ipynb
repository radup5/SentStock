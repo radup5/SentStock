{
  "cells": [
    {
      "attachments": {},
      "cell_type": "markdown",
      "metadata": {
        "id": "1I_JI-p6dtGh"
      },
      "source": [
        "## Load the data"
      ]
    },
    {
      "cell_type": "code",
      "execution_count": null,
      "metadata": {},
      "outputs": [],
      "source": [
        "# %pip install pandas\n",
        "# %pip install datasets\n",
        "# %pip install yfinance"
      ]
    },
    {
      "cell_type": "code",
      "execution_count": null,
      "metadata": {},
      "outputs": [],
      "source": [
        "import yfinance as yf\n",
        "import pandas as pd\n",
        "import datetime\n",
        "from datasets import load_dataset"
      ]
    },
    {
      "cell_type": "code",
      "execution_count": null,
      "metadata": {},
      "outputs": [],
      "source": [
        "dataset = load_dataset(\"edarchimbaud/news-stocks\")\n",
        "dataset.set_format(type='pandas')\n",
        "\n",
        "df = dataset['train'][:]\n",
        "df"
      ]
    },
    {
      "cell_type": "code",
      "execution_count": null,
      "metadata": {},
      "outputs": [],
      "source": [
        "from tqdm import tqdm\n",
        "\n",
        "tickers = list(df['symbol'].unique())\n",
        "\n",
        "def returns(date):\n",
        "  # returns are calculated using the close price from the previous trading day\n",
        "  # and the open price of the next trading day to include the moment when the\n",
        "  # news was made public (during or outside the trading hours)\n",
        "  prev_date = prices[prices.index < date].index.max()\n",
        "  prev_date_index = prices.index.get_loc(prev_date.strftime('%Y-%m-%d'))\n",
        "\n",
        "  if date.strftime('%Y-%m-%d') == prev_date.strftime('%Y-%m-%d'):\n",
        "    prev_date_index -= 1\n",
        "\n",
        "  next_date = prices[prices.index > date].index.min()\n",
        "  next_date_index = prices.index.get_loc(next_date.strftime('%Y-%m-%d'))\n",
        "\n",
        "  if date.strftime('%Y-%m-%d') == next_date.strftime('%Y-%m-%d'):\n",
        "    next_date_index += 1\n",
        "\n",
        "  # ret = ((prices['Open'][next_date_index] - prices['Close'][prev_date_index]) / prices['Close'][prev_date_index]) * 100\n",
        "  ret = ((prices.iloc[next_date_index]['Open'] - prices.iloc[prev_date_index]['Close']) / prices.iloc[prev_date_index]['Close']) * 100\n",
        "  \n",
        "  return ret\n",
        "\n",
        "\n",
        "for ticker in tqdm(tickers):\n",
        "    start_date = df[df['symbol'] == ticker]['publish_time'].min() - datetime.timedelta(days=7)\n",
        "    end_date = df[df['symbol'] == ticker]['publish_time'].max() + datetime.timedelta(days=7)\n",
        "    prices = yf.download(ticker, start_date, end_date, progress=False)\n",
        "    if len(prices) == 0:\n",
        "      df = df[df['symbol'] != ticker]\n",
        "      # tickers.remove(ticker)\n",
        "    else:\n",
        "      prices.index = pd.to_datetime(prices.index, format='%Y-%m-%d', utc=True)\n",
        "      df.loc[df['symbol'] == ticker, 'returns'] = df[df['symbol'] == ticker]['publish_time'].apply(returns)\n",
        "\n",
        "\n",
        "df"
      ]
    },
    {
      "cell_type": "code",
      "execution_count": null,
      "metadata": {},
      "outputs": [],
      "source": [
        "print(df['returns'].min())\n",
        "print(df['returns'].max())"
      ]
    },
    {
      "cell_type": "code",
      "execution_count": null,
      "metadata": {},
      "outputs": [],
      "source": [
        "import matplotlib.pyplot as plt\n",
        "\n",
        "fig, ax = plt.subplots(1, 2, figsize=(10, 5))\n",
        "df['returns'].plot.hist(ax=ax[0], bins=1000)\n",
        "df['returns'].plot.hist(ax=ax[1], bins=1000, xlim=(-25,25))\n",
        "plt.show()"
      ]
    },
    {
      "cell_type": "code",
      "execution_count": null,
      "metadata": {},
      "outputs": [],
      "source": [
        "print(len(df[df['returns'] < -3]))\n",
        "print(len(df[df['returns'] > 3]))\n",
        "print(len(df) - len(df[df['returns'] < -3]) - len(df[df['returns'] > 3]))"
      ]
    },
    {
      "cell_type": "code",
      "execution_count": null,
      "metadata": {},
      "outputs": [],
      "source": [
        "dataset = df.drop(['publisher', 'url', 'uuid'], axis=1)\n",
        "\n",
        "dataset['publish_time'] = pd.to_datetime(dataset['publish_time'], format='%Y-%m-%d %H:%M:%S', utc=True).dt.date\n",
        "dataset = dataset.groupby(['symbol', 'publish_time']).agg({'title': ' '.join, 'body': ' '.join, 'returns': 'mean'}).reset_index()\n",
        "# dataset = dataset.groupby(['symbol', 'publish_time']).agg({'title': list, 'body': list, 'returns': 'mean'}).reset_index()\n",
        "\n",
        "dataset"
      ]
    },
    {
      "cell_type": "code",
      "execution_count": null,
      "metadata": {},
      "outputs": [],
      "source": [
        "fig, ax = plt.subplots(1, 2, figsize=(10, 5))\n",
        "dataset['returns'].plot.hist(ax=ax[0], bins=1000)\n",
        "dataset['returns'].plot.hist(ax=ax[1], bins=1000, xlim=(-25,25))\n",
        "plt.show()"
      ]
    },
    {
      "cell_type": "code",
      "execution_count": null,
      "metadata": {},
      "outputs": [],
      "source": [
        "print(len(dataset[dataset['returns'] < -3]))\n",
        "print(len(dataset[dataset['returns'] > 3]))\n",
        "print(len(dataset) - len(dataset[dataset['returns'] < -3]) - len(dataset[dataset['returns'] > 3]))"
      ]
    },
    {
      "cell_type": "code",
      "execution_count": null,
      "metadata": {},
      "outputs": [],
      "source": [
        "dataset['trend'] = pd.cut(dataset['returns'], bins=[-100, -3, 3, 100], labels=['decrease', 'stable', 'increase'])\n",
        "\n",
        "dataset"
      ]
    },
    {
      "cell_type": "code",
      "execution_count": null,
      "metadata": {},
      "outputs": [],
      "source": [
        "dataset = dataset.drop(dataset[dataset['trend'] == 'stable'].sample(frac=0.9).index).reset_index(drop=True)\n",
        "\n",
        "dataset"
      ]
    },
    {
      "cell_type": "code",
      "execution_count": null,
      "metadata": {},
      "outputs": [],
      "source": [
        "dataset[dataset['symbol'] == 'ABEO']"
      ]
    },
    {
      "cell_type": "code",
      "execution_count": null,
      "metadata": {},
      "outputs": [],
      "source": [
        "dataset['trend'].value_counts().plot(kind='bar')"
      ]
    },
    {
      "cell_type": "code",
      "execution_count": null,
      "metadata": {},
      "outputs": [],
      "source": [
        "dataset.to_csv('dataset.csv', index=False)"
      ]
    }
  ],
  "metadata": {
    "colab": {
      "collapsed_sections": [
        "FcnSO7Nk2I4N"
      ],
      "name": "SentimentAnalysisMR.ipynb",
      "provenance": []
    },
    "kernelspec": {
      "display_name": "Python 3",
      "name": "python3"
    },
    "language_info": {
      "codemirror_mode": {
        "name": "ipython",
        "version": 3
      },
      "file_extension": ".py",
      "mimetype": "text/x-python",
      "name": "python",
      "nbconvert_exporter": "python",
      "pygments_lexer": "ipython3",
      "version": "3.11.6"
    }
  },
  "nbformat": 4,
  "nbformat_minor": 0
}
